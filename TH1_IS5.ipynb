{
 "cells": [
  {
   "cell_type": "code",
   "execution_count": 1,
   "id": "9dc9002a-f24b-451a-8d57-e01eab912e7a",
   "metadata": {
    "editable": true,
    "slideshow": {
     "slide_type": ""
    },
    "tags": []
   },
   "outputs": [
    {
     "name": "stdout",
     "output_type": "stream",
     "text": [
      "Hello World!\n"
     ]
    }
   ],
   "source": [
    "#W2A1\n",
    "print(\"Hello World!\")"
   ]
  },
  {
   "cell_type": "code",
   "execution_count": 12,
   "id": "88e99a16-3c8b-421d-8e88-423f3d8765c6",
   "metadata": {
    "editable": true,
    "slideshow": {
     "slide_type": ""
    },
    "tags": []
   },
   "outputs": [
    {
     "name": "stdin",
     "output_type": "stream",
     "text": [
      " Chu Tran Viet\n"
     ]
    },
    {
     "name": "stdout",
     "output_type": "stream",
     "text": [
      "Hello, Chu Tran Viet!\n"
     ]
    }
   ],
   "source": [
    "#W2A2\n",
    "name = input()\n",
    "print(\"Hello, \" + name + \"!\")"
   ]
  },
  {
   "cell_type": "code",
   "execution_count": 9,
   "id": "d6e4ec98-5e97-46bf-94a6-c184431b4c76",
   "metadata": {},
   "outputs": [
    {
     "name": "stdout",
     "output_type": "stream",
     "text": [
      "a+b=108\n",
      "a-b=92\n",
      "a*b=800\n",
      "a//b=12\n",
      "a % b=4\n",
      "a/b=12.50\n"
     ]
    }
   ],
   "source": [
    "#W2A3\n",
    "a = 100\n",
    "b = 8\n",
    "print(\"a+b=\" + str(a+b))\n",
    "print(\"a-b=\" + str(a-b))\n",
    "print(\"a*b=\" + str(a*b))\n",
    "print(\"a//b=\" + str(a//b))\n",
    "print(\"a % b=\" + str(a % b))\n",
    "print(\"a/b=\"f'{a/b:.2f}')"
   ]
  },
  {
   "cell_type": "code",
   "execution_count": 21,
   "id": "8754ebf1-945b-4599-be86-924b3fbfe819",
   "metadata": {},
   "outputs": [
    {
     "name": "stdin",
     "output_type": "stream",
     "text": [
      " 9.5 9.5 9.5 9.5 9.5 9.5\n"
     ]
    },
    {
     "name": "stdout",
     "output_type": "stream",
     "text": [
      "9.5\n"
     ]
    }
   ],
   "source": [
    "#W2A4\n",
    "line = input()\n",
    "a1,b1,c1,a2,b2,a3 = map(float, line.split())\n",
    "TB=((a1+b1+c1)+(a2+b2)*2+a3*3)/10\n",
    "print(f'{TB:.1f}')"
   ]
  },
  {
   "cell_type": "code",
   "execution_count": 22,
   "id": "5279c2c2-0e6b-470b-be00-5e9ffec32efa",
   "metadata": {},
   "outputs": [
    {
     "name": "stdin",
     "output_type": "stream",
     "text": [
      " 2 3\n"
     ]
    },
    {
     "name": "stdout",
     "output_type": "stream",
     "text": [
      "8\n"
     ]
    }
   ],
   "source": [
    "#W2A5\n",
    "line = input()\n",
    "a,b = map(int, line.split())\n",
    "print(a**b)"
   ]
  },
  {
   "cell_type": "code",
   "execution_count": 35,
   "id": "f985757d-bac7-44e6-bc9c-7c89f2128a79",
   "metadata": {},
   "outputs": [
    {
     "name": "stdin",
     "output_type": "stream",
     "text": [
      " a\n"
     ]
    },
    {
     "name": "stdout",
     "output_type": "stream",
     "text": [
      "97\n"
     ]
    }
   ],
   "source": [
    "#W2A6\n",
    "x = input()\n",
    "print(ord(x))"
   ]
  },
  {
   "cell_type": "code",
   "execution_count": 36,
   "id": "4b308ed4-35fd-4683-a390-1021933bffa2",
   "metadata": {},
   "outputs": [
    {
     "name": "stdin",
     "output_type": "stream",
     "text": [
      " a\n"
     ]
    },
    {
     "name": "stdout",
     "output_type": "stream",
     "text": [
      "A\n"
     ]
    }
   ],
   "source": [
    "#W2A6\n",
    "x = input()\n",
    "y = int(ord(x))-32\n",
    "print(chr(y))"
   ]
  },
  {
   "cell_type": "code",
   "execution_count": 43,
   "id": "306de471-8e3a-4fd2-88a6-6d813f7f9bdb",
   "metadata": {},
   "outputs": [
    {
     "name": "stdout",
     "output_type": "stream",
     "text": [
      "512 512\n"
     ]
    }
   ],
   "source": [
    "#W2A7\n",
    "A = ((13 ** 2) * 3) + 5 \n",
    "B = 13**2*3 + 5\n",
    "print(A,B)"
   ]
  },
  {
   "cell_type": "code",
   "execution_count": 39,
   "id": "05719312-58ec-4f22-80a5-73dda6c88a8a",
   "metadata": {},
   "outputs": [
    {
     "name": "stdin",
     "output_type": "stream",
     "text": [
      " 20\n"
     ]
    },
    {
     "name": "stdout",
     "output_type": "stream",
     "text": [
      "68.00\n"
     ]
    }
   ],
   "source": [
    "#W2A8\n",
    "c = float(input())\n",
    "far = 9/5 * c +32\n",
    "print(f'{far:.2f}')"
   ]
  },
  {
   "cell_type": "code",
   "execution_count": 42,
   "id": "a542512b-9122-4e05-966d-121b5f0b17f2",
   "metadata": {},
   "outputs": [
    {
     "name": "stdin",
     "output_type": "stream",
     "text": [
      " 10\n"
     ]
    },
    {
     "name": "stdout",
     "output_type": "stream",
     "text": [
      "24.00\n"
     ]
    }
   ],
   "source": [
    "#W2A9\n",
    "x = float(input())\n",
    "tien = x*1.4+10\n",
    "print(f'{tien:.2f}')"
   ]
  },
  {
   "cell_type": "code",
   "execution_count": 55,
   "id": "bac737de-3f80-431a-b023-bff0b7f30491",
   "metadata": {},
   "outputs": [
    {
     "name": "stdin",
     "output_type": "stream",
     "text": [
      " Bob Helen Alex\n"
     ]
    },
    {
     "name": "stdout",
     "output_type": "stream",
     "text": [
      "Hi Alex , Helen and Bob . \n"
     ]
    }
   ],
   "source": [
    "#W2A10\n",
    "name1, name2, name3 = input().split()\n",
    "print(\"Hi \", name3,' , ', name2, \" and \" , name1, ' . ', sep='')"
   ]
  },
  {
   "cell_type": "code",
   "execution_count": 66,
   "id": "a708ab49-30b7-4b9c-82d3-40990391de37",
   "metadata": {},
   "outputs": [
    {
     "name": "stdin",
     "output_type": "stream",
     "text": [
      " 3 \n",
      " 4\n"
     ]
    },
    {
     "name": "stdout",
     "output_type": "stream",
     "text": [
      "s1=10800 s2=240\n"
     ]
    }
   ],
   "source": [
    "#W2A11\n",
    "h = int(input())\n",
    "m = int(input())\n",
    "s1 = h * 3600\n",
    "s2 = m*60\n",
    "print(\"s1=\"+str(s1),\"s2=\"+str(s2))"
   ]
  },
  {
   "cell_type": "code",
   "execution_count": 67,
   "id": "9b2fc360-9554-4d07-bb19-339ea1eb6fb8",
   "metadata": {},
   "outputs": [
    {
     "name": "stdin",
     "output_type": "stream",
     "text": [
      " 2\n"
     ]
    },
    {
     "name": "stdout",
     "output_type": "stream",
     "text": [
      "24.0\n"
     ]
    }
   ],
   "source": [
    "#W2A12\n",
    "n = float(input())\n",
    "mieng dan = 6*(n*n)\n",
    "print(mieng dan)\n",
    "\n",
    "\n"
   ]
  },
  {
   "cell_type": "code",
   "execution_count": 52,
   "id": "ab58fa3b-82c2-4ada-9042-3bb91040f828",
   "metadata": {},
   "outputs": [
    {
     "name": "stdout",
     "output_type": "stream",
     "text": [
      "5\n"
     ]
    }
   ],
   "source": [
    "#W2A13\n",
    "a = 7\n",
    "b = 5\n",
    "print((a*b)%10)"
   ]
  },
  {
   "cell_type": "code",
   "execution_count": 1,
   "id": "3adffdfc-2e73-4101-9138-94d22ad09dc5",
   "metadata": {},
   "outputs": [
    {
     "name": "stdout",
     "output_type": "stream",
     "text": [
      "4 3\n"
     ]
    }
   ],
   "source": [
    "#W2A14\n",
    "a= 3\n",
    "b= 4\n",
    "a, b = b, a\n",
    "print(a,b)"
   ]
  },
  {
   "cell_type": "code",
   "execution_count": 69,
   "id": "0809ffbd-e6a9-4161-800e-caeee8ddd4e8",
   "metadata": {},
   "outputs": [
    {
     "name": "stdin",
     "output_type": "stream",
     "text": [
      " 3\n"
     ]
    },
    {
     "name": "stdout",
     "output_type": "stream",
     "text": [
      "37\n"
     ]
    }
   ],
   "source": [
    "#W2A15\n",
    "n = int(input())\n",
    "so_sao = 6*n*(n-1)+1\n",
    "print(so_sao)"
   ]
  },
  {
   "cell_type": "code",
   "execution_count": 11,
   "id": "1e44ad4b-7ccd-4241-89a9-6c3aed36ffb1",
   "metadata": {},
   "outputs": [
    {
     "name": "stdout",
     "output_type": "stream",
     "text": [
      "Spring\n",
      "Summer\n",
      "Autumn\n",
      "Winter\n"
     ]
    }
   ],
   "source": [
    "#W2A16\n",
    "print(\"Spring\\nSummer\\nAutumn\\nWinter\")"
   ]
  },
  {
   "cell_type": "code",
   "execution_count": 13,
   "id": "c6c112ca-bbce-4fa7-98e7-ef9edf03c1bc",
   "metadata": {},
   "outputs": [
    {
     "name": "stdout",
     "output_type": "stream",
     "text": [
      "*\n",
      "***\n",
      "*****\n"
     ]
    }
   ],
   "source": [
    "#W2A17\n",
    "print(\"*\")\n",
    "print(\"***\")\n",
    "print(\"*****\")"
   ]
  },
  {
   "cell_type": "code",
   "execution_count": 16,
   "id": "d97b0502-805b-4f5e-81ee-762e248b2a9c",
   "metadata": {},
   "outputs": [
    {
     "name": "stdout",
     "output_type": "stream",
     "text": [
      "### # #   ### ###\n",
      " #  #  #   #   #\n",
      " #  #   #  #   #\n",
      " #  #   #  #   #\n",
      " #  # #    #   #\n"
     ]
    }
   ],
   "source": [
    "#W2A18\n",
    "print(\"### # #   ### ###\")\n",
    "print(\" #  #  #   #   #\")\n",
    "print(\" #  #   #  #   #\")\n",
    "print(\" #  #   #  #   #\")\n",
    "print(\" #  # #    #   #\")"
   ]
  },
  {
   "cell_type": "code",
   "execution_count": 18,
   "id": "524e264e-b47e-4d98-8b8f-1c77b551eb35",
   "metadata": {},
   "outputs": [
    {
     "name": "stdout",
     "output_type": "stream",
     "text": [
      "Monday\n",
      "Tuesday\n",
      "Wednesday\n",
      "Thursday\n",
      "Friday\n",
      "Saturday\n",
      "Sunday\n"
     ]
    }
   ],
   "source": [
    "#W2A19\n",
    "print(\"Monday\\nTuesday\\nWednesday\\nThursday\\nFriday\\nSaturday\\nSunday\")"
   ]
  },
  {
   "cell_type": "code",
   "execution_count": 20,
   "id": "6ad84ba0-a8d9-437d-8916-9bd59ab10789",
   "metadata": {},
   "outputs": [
    {
     "name": "stdout",
     "output_type": "stream",
     "text": [
      "January\n",
      "Febrary\n",
      "March\n",
      "April\n",
      "May\n",
      "June\n",
      "July\n",
      "August\n",
      "September\n",
      "October\n",
      "November\n",
      "December\n"
     ]
    }
   ],
   "source": [
    "#W2A20\n",
    "print(\"January\\nFebrary\\nMarch\\nApril\\nMay\\nJune\\nJuly\\nAugust\\nSeptember\\nOctober\\nNovember\\nDecember\")"
   ]
  },
  {
   "cell_type": "code",
   "execution_count": 39,
   "id": "ae563613-1756-45b0-98f5-ec22a49675fd",
   "metadata": {},
   "outputs": [
    {
     "name": "stdout",
     "output_type": "stream",
     "text": [
      "Hello, world\n",
      "Hello, world\n",
      "Hello, world\n",
      "Hello, world\n",
      "Hello, world\n",
      "Hello, world\n",
      "Hello, world\n",
      "Hello, world\n",
      "Hello, world\n",
      "Hello, world\n",
      "\n"
     ]
    }
   ],
   "source": [
    "#W2A21\n",
    "text = \"Hello, world\\n\"\n",
    "print(text*10)"
   ]
  },
  {
   "cell_type": "code",
   "execution_count": 41,
   "id": "f45cc03f-7680-4178-8348-a644f0ac0522",
   "metadata": {},
   "outputs": [
    {
     "name": "stdout",
     "output_type": "stream",
     "text": [
      "Hello, world\n",
      "Hello, world\n",
      "Hello, world\n",
      "Hello, world\n",
      "Hello, world\n",
      "Hello, world\n",
      "Hello, world\n",
      "Hello, world\n",
      "Hello, world\n",
      "Hello, world\n"
     ]
    }
   ],
   "source": [
    "#W2A21\n",
    "for _ in range(10):\n",
    " print(\"Hello, world\")"
   ]
  }
 ],
 "metadata": {
  "kernelspec": {
   "display_name": "Python 3 (ipykernel)",
   "language": "python",
   "name": "python3"
  },
  "language_info": {
   "codemirror_mode": {
    "name": "ipython",
    "version": 3
   },
   "file_extension": ".py",
   "mimetype": "text/x-python",
   "name": "python",
   "nbconvert_exporter": "python",
   "pygments_lexer": "ipython3",
   "version": "3.13.5"
  },
  "widgets": {
   "application/vnd.jupyter.widget-state+json": {
    "state": {},
    "version_major": 2,
    "version_minor": 0
   }
  }
 },
 "nbformat": 4,
 "nbformat_minor": 5
}
