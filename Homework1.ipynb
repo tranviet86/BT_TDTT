{
 "cells": [
  {
   "cell_type": "code",
   "execution_count": 2,
   "id": "34f97726-d8fa-4a1d-8466-3df17f8b3963",
   "metadata": {
    "editable": true,
    "slideshow": {
     "slide_type": ""
    },
    "tags": []
   },
   "outputs": [
    {
     "name": "stdin",
     "output_type": "stream",
     "text": [
      " 5\n"
     ]
    },
    {
     "name": "stdout",
     "output_type": "stream",
     "text": [
      "10\n"
     ]
    }
   ],
   "source": [
    "#Bai 1\n",
    "n = int(input())\n",
    "print(2*n)"
   ]
  },
  {
   "cell_type": "code",
   "execution_count": 19,
   "id": "b765fcab-94d3-433f-9102-7e606172bf8f",
   "metadata": {},
   "outputs": [
    {
     "name": "stdin",
     "output_type": "stream",
     "text": [
      " 5 10\n"
     ]
    },
    {
     "name": "stdout",
     "output_type": "stream",
     "text": [
      "30.38\n"
     ]
    }
   ],
   "source": [
    "#Bai 2\n",
    "line = input()\n",
    "a, b = map(float, line.split())\n",
    "s = (a*b)-(3.14*((a/2)**2))\n",
    "print(f'{s:.2f}')"
   ]
  },
  {
   "cell_type": "code",
   "execution_count": 59,
   "id": "446c7e97-0656-4669-9ac1-670a61c37a0a",
   "metadata": {},
   "outputs": [
    {
     "name": "stdin",
     "output_type": "stream",
     "text": [
      " c\n"
     ]
    },
    {
     "name": "stdout",
     "output_type": "stream",
     "text": [
      "Chữ hoa tương ứng là: C\n"
     ]
    }
   ],
   "source": [
    "#Bai 3\n",
    "c = input()\n",
    "if c.islower():\n",
    "    print(f\"Chữ hoa tương ứng là: {x.upper()}\")\n",
    "else:\n",
    "    print(f\"Chữ thường tương ứng là: {c.lower()}\")"
   ]
  },
  {
   "cell_type": "code",
   "execution_count": 64,
   "id": "64984132-63be-4397-b792-2cb5b97ee88c",
   "metadata": {},
   "outputs": [
    {
     "name": "stdin",
     "output_type": "stream",
     "text": [
      " #\n"
     ]
    },
    {
     "name": "stdout",
     "output_type": "stream",
     "text": [
      "{c} không là kí tự alphabet\n"
     ]
    }
   ],
   "source": [
    "#Bai 4\n",
    "c = input()\n",
    "if c.isalpha():\n",
    "    print(\"{c} là kí tự alphabet\")\n",
    "else:\n",
    "    print(\"{c} không là kí tự alphabet\")"
   ]
  },
  {
   "cell_type": "code",
   "execution_count": 88,
   "id": "f8ba9c7e-e21b-47c2-aaca-d5652337cadb",
   "metadata": {},
   "outputs": [
    {
     "name": "stdin",
     "output_type": "stream",
     "text": [
      " A\n"
     ]
    },
    {
     "name": "stdout",
     "output_type": "stream",
     "text": [
      "`\n"
     ]
    }
   ],
   "source": [
    "#Bai 5\n",
    "c = input()\n",
    "x = int(ord(c))+31\n",
    "print(chr(x))"
   ]
  },
  {
   "cell_type": "code",
   "execution_count": 93,
   "id": "c6d369f7-bcf9-4ef1-9bec-e2b29d8da57f",
   "metadata": {},
   "outputs": [
    {
     "name": "stdin",
     "output_type": "stream",
     "text": [
      " 3 4 5\n"
     ]
    },
    {
     "name": "stdout",
     "output_type": "stream",
     "text": [
      "6.0\n"
     ]
    }
   ],
   "source": [
    "#Bai 6\n",
    "a, b, c = map(float, input().split())\n",
    "x = (a+b+c)/2\n",
    "s = (x*(x-a)*(x-b)*(x-c))**(1/2)\n",
    "if a+b>c and a+c>b and b+c>a:\n",
    "    print(f'{s:.1f}')\n",
    "else:\n",
    "    print(\" Không phải 3 cạnh của tam giác\")"
   ]
  },
  {
   "cell_type": "code",
   "execution_count": 109,
   "id": "30492645-0704-4615-a68d-24d5988d1d28",
   "metadata": {},
   "outputs": [
    {
     "name": "stdin",
     "output_type": "stream",
     "text": [
      " qwertyuiopasdfghjklzxcvbnm\n"
     ]
    },
    {
     "name": "stdout",
     "output_type": "stream",
     "text": [
      "Chữ cái thứ năm là: t\n",
      "Chữ cái thứ chín là: o\n"
     ]
    }
   ],
   "source": [
    "#Bai 7\n",
    "a = input()\n",
    "x = a[4]\n",
    "y = a[8]\n",
    "print(f\"Chữ cái thứ năm là: {x}\")\n",
    "print(f\"Chữ cái thứ chín là: {y}\")"
   ]
  },
  {
   "cell_type": "code",
   "execution_count": 1,
   "id": "66c9c772-27c8-4b12-af6b-e847773f1bb1",
   "metadata": {},
   "outputs": [
    {
     "name": "stdin",
     "output_type": "stream",
     "text": [
      "Ten chu ho:  Nguyen Xuan Hai\n",
      "Chi so thang truoc:  2000\n",
      "Chi so thang nay:  2586\n"
     ]
    },
    {
     "name": "stdout",
     "output_type": "stream",
     "text": [
      "Ho va ten: Nguyen Xuan Hai\n",
      "Tien phai tra la: 1855505\n"
     ]
    }
   ],
   "source": [
    "#Bai 8\n",
    "# Tên chủ hộ: a\n",
    "# Chỉ số tháng trước: b\n",
    "#Chỉ số tháng này: c\n",
    "#Số kWh: x= c-b\n",
    "#Tiền phải trả: P\n",
    "a = input(\"Ten chu ho: \")\n",
    "b = int(input(\"Chi so thang truoc: \"))\n",
    "c = int(input(\"Chi so thang nay: \"))\n",
    "x = c-b\n",
    "if 0<=x<=50:\n",
    "    print(f\"Ho va ten: {a}\")\n",
    "    print(f\"Tien phai tra la: {x*1984*1.08:.0f}\")\n",
    "if 51<=x<=100:\n",
    "    print(f\"Ho va ten: {a}\")\n",
    "    print(f\"Tien phai tra la: {(50*1984+(x-50)*2050)*1.08:.0f}\")\n",
    "if 101<=x<=200:\n",
    "    print(f\"Ho va ten: {a}\")\n",
    "    print(f\"Tien phai tra la: {(50*1984+50*2050+(x-100)*2380)*1.08:.0f}\")\n",
    "if 201<=x<=400:\n",
    "    print(f\"Ho va ten: {a}\")\n",
    "    print(f\" Tien phai tra la: {(50*1984+50*2050+100*2380+(x-200)*2998)*1.08:.0f}\")\n",
    "if 301<=x<=400:\n",
    "    print(f\"Ho va ten: {a}\")\n",
    "    print(f\"Tien phai tra la: {(50*1984+50*2050+100*2380+100*2998+(x-300)*3350)*1.08:.0f}\")\n",
    "if x>=401:\n",
    "    print(f\"Ho va ten: {a}\")\n",
    "    print(f\"Tien phai tra la: {(50*1984+50*2050+100*2380+100*2998+100*3350+(x-400)*3460)*1.08:.0f}\")"
   ]
  },
  {
   "cell_type": "code",
   "execution_count": 5,
   "id": "8b5af521-3ef9-4998-9057-0e48739ecf8b",
   "metadata": {},
   "outputs": [
    {
     "name": "stdin",
     "output_type": "stream",
     "text": [
      " 10\n"
     ]
    },
    {
     "name": "stdout",
     "output_type": "stream",
     "text": [
      "Số chẵn\n"
     ]
    }
   ],
   "source": [
    "#1\n",
    "a = int(input())\n",
    "if a % 2 == 0:\n",
    "    print(\"Số chẵn\")\n",
    "else:\n",
    "    print(\"Số lẻ\")"
   ]
  },
  {
   "cell_type": "code",
   "execution_count": 20,
   "id": "b22178f1-fbb7-4edd-bfce-53df4a597ef7",
   "metadata": {},
   "outputs": [
    {
     "name": "stdin",
     "output_type": "stream",
     "text": [
      " 35\n"
     ]
    },
    {
     "name": "stdout",
     "output_type": "stream",
     "text": [
      "True\n"
     ]
    }
   ],
   "source": [
    "#2\n",
    "a =int(input())\n",
    "if a % 10 == 5:\n",
    "    print(\"True\")\n",
    "else:\n",
    "    print(\"False\")"
   ]
  },
  {
   "cell_type": "code",
   "execution_count": 22,
   "id": "100175cb-68ff-438d-aa66-240bdcbf5834",
   "metadata": {},
   "outputs": [
    {
     "name": "stdin",
     "output_type": "stream",
     "text": [
      " 25\n"
     ]
    },
    {
     "name": "stdout",
     "output_type": "stream",
     "text": [
      "False\n"
     ]
    }
   ],
   "source": [
    "#3\n",
    "a = int(input())\n",
    "if a%5 == 0 and a%3 == 0:\n",
    "    print(\"True\")\n",
    "else:\n",
    "    print(\"False\")"
   ]
  },
  {
   "cell_type": "code",
   "execution_count": 24,
   "id": "94bd0f5c-d11d-4c71-907f-5159c2895199",
   "metadata": {},
   "outputs": [
    {
     "name": "stdin",
     "output_type": "stream",
     "text": [
      " 2017\n"
     ]
    },
    {
     "name": "stdout",
     "output_type": "stream",
     "text": [
      "Không được đi bầu cử\n"
     ]
    }
   ],
   "source": [
    "#4\n",
    "a = int(input())\n",
    "if 2025 - a >= 18:\n",
    "    print(\"Được đi bầu cử\")\n",
    "else:\n",
    "    print(\"Không được đi bầu cử\")"
   ]
  },
  {
   "cell_type": "code",
   "execution_count": 32,
   "id": "05ee4197-f658-42ed-8373-4931574d45c8",
   "metadata": {},
   "outputs": [
    {
     "name": "stdin",
     "output_type": "stream",
     "text": [
      " 10 9\n"
     ]
    },
    {
     "name": "stdout",
     "output_type": "stream",
     "text": [
      " Số lớn hơn là: 10\n"
     ]
    }
   ],
   "source": [
    "#5\n",
    "a, b =map(int, input().split())\n",
    "if a>b:\n",
    "    print(f\" Số lớn hơn là: {a}\")\n",
    "if a<b:\n",
    "    print(f\"Số lớn hơn là: {b}\")\n",
    "elif a == b:\n",
    "    print(\"Hai số bằng nhau\")"
   ]
  },
  {
   "cell_type": "code",
   "execution_count": 3,
   "id": "1ffda25a-195f-469e-a020-b4358a5cc3c5",
   "metadata": {},
   "outputs": [
    {
     "name": "stdin",
     "output_type": "stream",
     "text": [
      " 25\n"
     ]
    },
    {
     "name": "stdout",
     "output_type": "stream",
     "text": [
      "Đây là số\n"
     ]
    }
   ],
   "source": [
    "#6\n",
    "a = input()\n",
    "if a.isalpha():\n",
    "    print(f\"Đây là chữ\")\n",
    "elif a.isdigit():\n",
    "    print(f\"Đây là số\")"
   ]
  },
  {
   "cell_type": "code",
   "execution_count": 9,
   "id": "7e1052aa-406c-410f-bac0-5e44f38d4031",
   "metadata": {},
   "outputs": [
    {
     "name": "stdin",
     "output_type": "stream",
     "text": [
      " 9.5\n"
     ]
    },
    {
     "name": "stdout",
     "output_type": "stream",
     "text": [
      "Giỏi\n"
     ]
    }
   ],
   "source": [
    "#7\n",
    "x = float(input())\n",
    "if x>=8:\n",
    "    print(\"Giỏi\")\n",
    "if 6.5<=x<8:\n",
    "    print(\"Khá\")\n",
    "if 5<=x<6.5:\n",
    "    print(\"Trung bình\")\n",
    "if x<5:\n",
    "    print(\"Yếu\")\n",
    "    \n",
    "        "
   ]
  },
  {
   "cell_type": "code",
   "execution_count": 12,
   "id": "5101dee2-a5bb-41a8-ad70-509b1da84bda",
   "metadata": {},
   "outputs": [
    {
     "name": "stdin",
     "output_type": "stream",
     "text": [
      " 2025\n"
     ]
    },
    {
     "name": "stdout",
     "output_type": "stream",
     "text": [
      "Năm không nhuận\n"
     ]
    }
   ],
   "source": [
    "#8\n",
    "x = int(input())\n",
    "if (x%400==0) or (x%4==0 and x%100 != 0):\n",
    "    print(\"Năm nhuận\")\n",
    "else:\n",
    "    print(\"Năm không nhuận\")"
   ]
  },
  {
   "cell_type": "code",
   "execution_count": 30,
   "id": "ce06b548-27a4-4f86-bbfa-afce881dab14",
   "metadata": {},
   "outputs": [
    {
     "name": "stdin",
     "output_type": "stream",
     "text": [
      " 9\n"
     ]
    },
    {
     "name": "stdout",
     "output_type": "stream",
     "text": [
      "\n",
      "Chín\n"
     ]
    }
   ],
   "source": [
    "#9\n",
    "x = int(input())\n",
    "print()\n",
    "match x:\n",
    " case 0:\n",
    "     print(\"Không\")\n",
    " case 1:\n",
    "     print(\"Một\")\n",
    " case 2:\n",
    "     print(\"Hai\")\n",
    " case 3:\n",
    "     print(\"Ba\")\n",
    " case 4:\n",
    "     print(\"Bốn\")\n",
    " case 5:\n",
    "     print(\"Năm\")\n",
    " case 6:\n",
    "     print(\"Sáu\")\n",
    " case 7:\n",
    "     print(\"Bảy\")\n",
    " case 8:\n",
    "     print(\"Tám\")\n",
    " case 9:\n",
    "     print(\"Chín\")\n",
    "     \n"
   ]
  },
  {
   "cell_type": "code",
   "execution_count": 31,
   "id": "1f991286-b4a5-44f6-b840-04cc34e83e0e",
   "metadata": {},
   "outputs": [
    {
     "name": "stdin",
     "output_type": "stream",
     "text": [
      " 10\n"
     ]
    },
    {
     "name": "stdout",
     "output_type": "stream",
     "text": [
      "Qua môn\n"
     ]
    }
   ],
   "source": [
    "#10\n",
    "x = float(input())\n",
    "if x>=4:\n",
    "    print(\"Qua môn\")\n",
    "else:\n",
    "    print(\"Học lại\")"
   ]
  },
  {
   "cell_type": "code",
   "execution_count": 35,
   "id": "5b75a551-6c0a-4147-beaf-69b3fd16180b",
   "metadata": {
    "editable": true,
    "slideshow": {
     "slide_type": ""
    },
    "tags": []
   },
   "outputs": [
    {
     "name": "stdin",
     "output_type": "stream",
     "text": [
      " 2015\n"
     ]
    },
    {
     "name": "stdout",
     "output_type": "stream",
     "text": [
      "10, chưa đủ 18 tuổi\n"
     ]
    }
   ],
   "source": [
    "#11\n",
    "x = int(input())\n",
    "tuoi = 2025-x\n",
    "if tuoi>=18:\n",
    "    print(f\"{tuoi}, đã đủ 18 tuổi\")\n",
    "else:\n",
    "    print(f\"{tuoi}, chưa đủ 18 tuổi\")"
   ]
  }
 ],
 "metadata": {
  "kernelspec": {
   "display_name": "Python 3 (ipykernel)",
   "language": "python",
   "name": "python3"
  },
  "language_info": {
   "codemirror_mode": {
    "name": "ipython",
    "version": 3
   },
   "file_extension": ".py",
   "mimetype": "text/x-python",
   "name": "python",
   "nbconvert_exporter": "python",
   "pygments_lexer": "ipython3",
   "version": "3.13.5"
  },
  "widgets": {
   "application/vnd.jupyter.widget-state+json": {
    "state": {},
    "version_major": 2,
    "version_minor": 0
   }
  }
 },
 "nbformat": 4,
 "nbformat_minor": 5
}
