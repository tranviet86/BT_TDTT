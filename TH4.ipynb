{
 "cells": [
  {
   "cell_type": "code",
   "execution_count": 2,
   "id": "ab243b6d-febf-48ae-9340-8f1badbad080",
   "metadata": {},
   "outputs": [
    {
     "name": "stdin",
     "output_type": "stream",
     "text": [
      " 5\n"
     ]
    },
    {
     "name": "stdout",
     "output_type": "stream",
     "text": [
      "1 2 3 4 5 \n",
      " 15\n"
     ]
    }
   ],
   "source": [
    "#Bai 1\n",
    "n = int(input())\n",
    "S = 0\n",
    "for i in range(1, n+1):\n",
    "    print(i, end=' ')\n",
    "    S +=i #S = S+ i\n",
    "print(\"\\n\", S)"
   ]
  },
  {
   "cell_type": "code",
   "execution_count": 23,
   "id": "21fded86-96be-4e72-9197-21e18b287d37",
   "metadata": {},
   "outputs": [
    {
     "name": "stdin",
     "output_type": "stream",
     "text": [
      "Nhập một số nguyên n (0 < n < 100):  8\n"
     ]
    },
    {
     "name": "stdout",
     "output_type": "stream",
     "text": [
      "8! = 40320\n"
     ]
    }
   ],
   "source": [
    "#Bai 3\n",
    "try:\n",
    "    for _ in range(10000):\n",
    "        n = int(input(\"Nhập một số nguyên n (0 < n < 100): \"))\n",
    "        if 0<n<100:\n",
    "            break\n",
    "        else:\n",
    "            print(\"Số n không hợp lệ! Vui lòng nhập số từ 1 đến 99.\")\n",
    "    giai_thua = 1\n",
    "    for i in range(1, n + 1):\n",
    "        giai_thua *= i\n",
    "    print(f\"{n}! = {giai_thua}\")\n",
    "except ValueError:\n",
    "    print(\"Ban da nhap sai\")"
   ]
  },
  {
   "cell_type": "code",
   "execution_count": 28,
   "id": "687a7c3e-de12-46ad-a211-76b3c808ade9",
   "metadata": {},
   "outputs": [
    {
     "name": "stdin",
     "output_type": "stream",
     "text": [
      " 0\n"
     ]
    },
    {
     "name": "stdout",
     "output_type": "stream",
     "text": [
      "1\n"
     ]
    }
   ],
   "source": [
    "#Bai 4\n",
    "n = 0\n",
    "try:\n",
    "    n = int(input())\n",
    "    count = 0\n",
    "    n = abs(n)\n",
    "    if n==0:\n",
    "        count = 1\n",
    "    for _ in range(10000):\n",
    "        if n > 0:\n",
    "            count += 1\n",
    "            n//=10\n",
    "        else:\n",
    "            break\n",
    "    print(count)\n",
    "except ValueError:\n",
    "    print(\"Ban nhap sai du lieu\")"
   ]
  },
  {
   "cell_type": "code",
   "execution_count": 32,
   "id": "28f18054-aa5b-46a0-a622-a29ab34984f7",
   "metadata": {},
   "outputs": [
    {
     "name": "stdin",
     "output_type": "stream",
     "text": [
      " 2\n",
      " 5\n",
      " 42\n"
     ]
    },
    {
     "name": "stdout",
     "output_type": "stream",
     "text": [
      "I've found the meaning of life\n"
     ]
    }
   ],
   "source": [
    "#Bai 5\n",
    "try:\n",
    "    n = int(input())\n",
    "    flag = False\n",
    "    for _ in range(n):\n",
    "        a = int(input())\n",
    "        if a == 42:\n",
    "            print(\"I've found the meaning of life\")\n",
    "            flag = True\n",
    "            break\n",
    "    if flag == False:\n",
    "        print(\"It's a joke\")\n",
    "except ValueError:\n",
    "    print(\"Ban nhap sai\")\n",
    "            "
   ]
  },
  {
   "cell_type": "code",
   "execution_count": 35,
   "id": "80ec6c9c-516f-4a14-87b3-d0b683d7542b",
   "metadata": {},
   "outputs": [
    {
     "name": "stdin",
     "output_type": "stream",
     "text": [
      "So tien gui vao:  100000\n",
      "So thang gui:  3\n"
     ]
    },
    {
     "name": "stdout",
     "output_type": "stream",
     "text": [
      "102114\n"
     ]
    }
   ],
   "source": [
    "#Bai 12(1)\n",
    "x = float(input(\"So tien gui vao: \"))\n",
    "N = int(input(\"So thang gui: \"))\n",
    "r = 0.007\n",
    "total = x*((1+r)**N)\n",
    "print(int(total))"
   ]
  },
  {
   "cell_type": "code",
   "execution_count": 38,
   "id": "8c6a82e4-8157-49af-a1cb-4ab7ddf71aa1",
   "metadata": {},
   "outputs": [
    {
     "name": "stdin",
     "output_type": "stream",
     "text": [
      "So tien gui vao:  20000000\n",
      "So thang gui:  12\n"
     ]
    },
    {
     "name": "stdout",
     "output_type": "stream",
     "text": [
      "20280980\n"
     ]
    }
   ],
   "source": [
    "#Bai 12(2)\n",
    "x = float(input(\"So tien gui vao: \"))\n",
    "N = int(input(\"So thang gui: \"))\n",
    "for _ in range(n):\n",
    "    x = x*1.007\n",
    "print(round(x))"
   ]
  },
  {
   "cell_type": "code",
   "execution_count": 39,
   "id": "c203aa55-5c83-47ef-a1cd-52128c0f83e9",
   "metadata": {},
   "outputs": [
    {
     "name": "stdin",
     "output_type": "stream",
     "text": [
      " 220\n",
      " 284\n"
     ]
    },
    {
     "name": "stdout",
     "output_type": "stream",
     "text": [
      "True\n"
     ]
    }
   ],
   "source": [
    "#Bai 13\n",
    "try:\n",
    "    a = int(input())\n",
    "    b= int(input())\n",
    "    tong_uoc_a = 0\n",
    "    for i in range(1, a//2+1):\n",
    "        if a % i ==0:\n",
    "            tong_uoc_a +=i\n",
    "    tong_uoc_b = 0\n",
    "    for i in range(1, b//2+1):\n",
    "        if b % i ==0:\n",
    "            tong_uoc_b +=i\n",
    "    print(tong_uoc_a == b and tong_uoc_b ==a)\n",
    "except ValueError:\n",
    "    print(\"Ban nhap sai\")\n",
    "        \n",
    "        "
   ]
  },
  {
   "cell_type": "code",
   "execution_count": 43,
   "id": "cc5193d3-e7ec-42c8-ac60-2f7b3110fbe0",
   "metadata": {},
   "outputs": [
    {
     "name": "stdin",
     "output_type": "stream",
     "text": [
      "Nhập số nguyên dương m:  3\n",
      "Nhập số nguyên dương n:  6\n"
     ]
    },
    {
     "name": "stdout",
     "output_type": "stream",
     "text": [
      "Ước chung lớn nhất của 3 và 6 là 3\n"
     ]
    }
   ],
   "source": [
    "#Bai 14\n",
    "m = int(input(\"Nhập số nguyên dương m: \"))\n",
    "n = int(input(\"Nhập số nguyên dương n: \"))\n",
    "if m <= 0 or n <= 0:\n",
    "    print(\"Hai số phải là số nguyên dương!\")\n",
    "else:\n",
    "    ucln = 1\n",
    "    for i in range(1, min(m, n) + 1):\n",
    "        if m % i == 0 and n % i == 0:\n",
    "            ucln = i \n",
    "    print(f\"Ước chung lớn nhất của {m} và {n} là {ucln}\")\n"
   ]
  }
 ],
 "metadata": {
  "kernelspec": {
   "display_name": "Python 3 (ipykernel)",
   "language": "python",
   "name": "python3"
  },
  "language_info": {
   "codemirror_mode": {
    "name": "ipython",
    "version": 3
   },
   "file_extension": ".py",
   "mimetype": "text/x-python",
   "name": "python",
   "nbconvert_exporter": "python",
   "pygments_lexer": "ipython3",
   "version": "3.13.5"
  },
  "widgets": {
   "application/vnd.jupyter.widget-state+json": {
    "state": {},
    "version_major": 2,
    "version_minor": 0
   }
  }
 },
 "nbformat": 4,
 "nbformat_minor": 5
}
