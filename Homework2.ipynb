{
 "cells": [
  {
   "cell_type": "code",
   "execution_count": 2,
   "id": "d0a932b2-7e9b-4d16-a526-2916d50aee3b",
   "metadata": {},
   "outputs": [
    {
     "name": "stdin",
     "output_type": "stream",
     "text": [
      " 10\n",
      " 8\n"
     ]
    },
    {
     "name": "stdout",
     "output_type": "stream",
     "text": [
      "Diện tích là: 80\n",
      "Chu vi là: 36\n"
     ]
    }
   ],
   "source": [
    "#Bai 1\n",
    "chieu_dai=int(input())\n",
    "chieu_rong=int(input())\n",
    "S = chieu_dai * chieu_rong\n",
    "C = (chieu_dai + chieu_rong)*2\n",
    "print(f\"Diện tích là: {S}\")\n",
    "print(f\"Chu vi là: {C}\")"
   ]
  },
  {
   "cell_type": "code",
   "execution_count": 3,
   "id": "09295933-53f6-4e38-aea7-fd12a7489804",
   "metadata": {},
   "outputs": [
    {
     "name": "stdin",
     "output_type": "stream",
     "text": [
      " 8\n"
     ]
    },
    {
     "name": "stdout",
     "output_type": "stream",
     "text": [
      "Diện tích là: 200.96\n",
      "Chu vi là: 50.24\n"
     ]
    }
   ],
   "source": [
    "#Bai 2\n",
    "r = int(input())\n",
    "S = 3.14*(r**2)\n",
    "C = 2*3.14*r\n",
    "print(f\"Diện tích là: {S}\")\n",
    "print(f\"Chu vi là: {C}\")"
   ]
  },
  {
   "cell_type": "code",
   "execution_count": 11,
   "id": "6e79a82a-4921-4450-a48a-74b1b2ca74db",
   "metadata": {},
   "outputs": [
    {
     "name": "stdin",
     "output_type": "stream",
     "text": [
      " 10 11 12\n"
     ]
    },
    {
     "name": "stdout",
     "output_type": "stream",
     "text": [
      "Tam giac thuong\n",
      "Dien tich la: 51.521233486786784\n",
      "Chu vi la: 33.0\n"
     ]
    }
   ],
   "source": [
    "#Bai 3\n",
    "a, b, c = map(float, input().split())\n",
    "C = a+b+c\n",
    "p = (a+b+c)/2\n",
    "S = (p*(p-a)*(p-b)*(p-c))**(1/2)\n",
    "if a+b<=c or a+c<=b or b+c<=a:\n",
    "    print(\"Khong la ba canh cua mot tam giac\")\n",
    "elif a==b==c:\n",
    "    print(\"Tam giac deu\")\n",
    "    print(f\"Dien tich la: {S}\")\n",
    "    print(f\"Chu vi la: {C}\")\n",
    "elif a==b!=c or a==c!=b or b==c!=a:\n",
    "    print(\"Tam giac can\")\n",
    "    print(f\"Dien tich la: {S}\")\n",
    "    print(f\"Chu vi la: {C}\")\n",
    "elif (a**2)+(b**2)==(c**2) or (a**2)+(c**2)==(b**2)or (b**2)+(c**2)==(a**2):\n",
    "    print(\"Tam giac vuong\")\n",
    "    print(f\"Dien tich la: {S}\")\n",
    "    print(f\"Chu vi la: {C}\")\n",
    "else:\n",
    "    print(\"Tam giac thuong\")\n",
    "    print(f\"Dien tich la: {S}\")\n",
    "    print(f\"Chu vi la: {C}\")"
   ]
  },
  {
   "cell_type": "code",
   "execution_count": 21,
   "id": "ebd6f027-79c8-4934-839f-6e35ab738ff6",
   "metadata": {
    "scrolled": true
   },
   "outputs": [
    {
     "name": "stdin",
     "output_type": "stream",
     "text": [
      " 8\n",
      " 9\n"
     ]
    },
    {
     "name": "stdout",
     "output_type": "stream",
     "text": [
      "Phuong trinh co nghiem la: -1.125\n"
     ]
    }
   ],
   "source": [
    "#Bai 4\n",
    "a = float(input())\n",
    "b = float(input())\n",
    "if a==0:\n",
    "    if b==0:\n",
    "        print(\"Phuong trinh co vo so nghiem\")\n",
    "    else:\n",
    "        print(\"Phuong trinh vo nghiem\")\n",
    "else:\n",
    "    x =-b / a\n",
    "    print(f\"Phuong trinh co nghiem la: {x}\")\n",
    "    \n",
    "    "
   ]
  },
  {
   "cell_type": "code",
   "execution_count": 34,
   "id": "831370aa-7e0a-4323-aee2-78aec7747403",
   "metadata": {},
   "outputs": [
    {
     "name": "stdin",
     "output_type": "stream",
     "text": [
      " 1 5 4\n"
     ]
    },
    {
     "name": "stdout",
     "output_type": "stream",
     "text": [
      "Phuong trinh co hai nghiem phan biet x1=-4.0, x2=-1.0\n"
     ]
    }
   ],
   "source": [
    "#Bai 5\n",
    "a, b, c = map(float, input().split())\n",
    "if a==0:\n",
    "    if b==0:\n",
    "        if c==0:\n",
    "            print(\"Phuong trinh co vo so nghiem\")\n",
    "        else:\n",
    "            print(\"Phuong trinh vo nghiem\")\n",
    "    else:\n",
    "        x = -c/b\n",
    "        print(f\"Phuong trinh co nghiem la: {x}\")\n",
    "else:\n",
    "    delta = (b**2)-4*a*c\n",
    "    if delta==0:\n",
    "        print(f\"Phuong trinh co nghiem kep la x1=x2={-b/2*a}\")\n",
    "    elif delta <0:\n",
    "        print(\"Phuong trinh vo nghiem\")\n",
    "    else:\n",
    "        x1 = (-b- ((delta)**(1/2)))/(2*a)\n",
    "        x2 = (-b+ ((delta)**(1/2)))/(2*a)\n",
    "        print(f\"Phuong trinh co hai nghiem phan biet x1={x1}, x2={x2}\")"
   ]
  },
  {
   "cell_type": "code",
   "execution_count": 42,
   "id": "a631dd58-f535-478d-9f3d-10033796b789",
   "metadata": {},
   "outputs": [
    {
     "name": "stdin",
     "output_type": "stream",
     "text": [
      " 6 7 8 9\n"
     ]
    },
    {
     "name": "stdout",
     "output_type": "stream",
     "text": [
      "Gia tri lon nhat la: 9\n"
     ]
    }
   ],
   "source": [
    "#Bai 6: Cach1\n",
    "a, b, c, d = map(int, input().split())\n",
    "print(f\"Gia tri lon nhat la: {max(a, b, c, d)}\")"
   ]
  },
  {
   "cell_type": "code",
   "execution_count": 48,
   "id": "6edce8f7-4269-4006-bc32-3e684a32180e",
   "metadata": {},
   "outputs": [
    {
     "name": "stdin",
     "output_type": "stream",
     "text": [
      " 4 6 3 2\n"
     ]
    },
    {
     "name": "stdout",
     "output_type": "stream",
     "text": [
      "Gia tri nho nhat la: 2\n"
     ]
    }
   ],
   "source": [
    "#Bai 7\n",
    "a, b, c, d = map(int, input().split())\n",
    "print(f\"Gia tri nho nhat la: {min(a, b, c, d)}\")"
   ]
  },
  {
   "cell_type": "code",
   "execution_count": 51,
   "id": "d615c3e6-8d80-4da5-b47d-92d3b216d032",
   "metadata": {},
   "outputs": [
    {
     "name": "stdin",
     "output_type": "stream",
     "text": [
      " 5 6 2 4 8 3\n"
     ]
    },
    {
     "name": "stdout",
     "output_type": "stream",
     "text": [
      "He phuong trinh co nghiem duy nhat la: x = 1.75, y = -0.125\n"
     ]
    }
   ],
   "source": [
    "#Bai 8 \n",
    "a, b, c, d, m, n = map(float, input().split())\n",
    "delta = (a*d)-(b*c)\n",
    "delta_x = (m*d)-(b*n)\n",
    "delta_y = (a*n)-(m*c)\n",
    "if delta != 0 :\n",
    "    x = delta_x/delta\n",
    "    y = delta_y/delta\n",
    "    print(f\"He phuong trinh co nghiem duy nhat la: x = {x}, y = {y}\")\n",
    "else:\n",
    "    if delta_x == 0 and delta_y==0:\n",
    "        print(\"He phuong trinh co vo so nghiem\")\n",
    "    else:\n",
    "        print(\"He phuong trinh vo nghiem\")\n",
    "        "
   ]
  },
  {
   "cell_type": "code",
   "execution_count": 55,
   "id": "bd50632e-e83f-4977-97ef-49f8b18e92cc",
   "metadata": {},
   "outputs": [
    {
     "name": "stdin",
     "output_type": "stream",
     "text": [
      "Nhap vao giay: 1800\n"
     ]
    },
    {
     "name": "stdout",
     "output_type": "stream",
     "text": [
      "1800 giay bang 0.5 gio\n",
      "1800 giay bang 30.0 phut\n",
      "1800 giay\n"
     ]
    }
   ],
   "source": [
    "#Bai 9\n",
    "s = int(input(\"Nhap vao giay:\"))\n",
    "h = s/3600\n",
    "m = s/60\n",
    "print(f\"{s} giay bang {h} gio\")\n",
    "print(f\"{s} giay bang {m} phut\")\n",
    "print(f\"{s} giay\")"
   ]
  },
  {
   "cell_type": "code",
   "execution_count": 58,
   "id": "edc35988-795f-46a8-9ba1-8b5a3f4985b4",
   "metadata": {},
   "outputs": [
    {
     "name": "stdin",
     "output_type": "stream",
     "text": [
      "Hoanh do tam duong tron: 2 \n",
      "Tung do tam duong tron: 4\n",
      "Ban kinh duong tron: 6\n",
      "Hoanh do diem A: 5\n",
      "Tung do diem A: 7\n"
     ]
    },
    {
     "name": "stdout",
     "output_type": "stream",
     "text": [
      "A nam trong duong tron\n"
     ]
    }
   ],
   "source": [
    "#Bai 10\n",
    "x0 = float(input(\"Hoanh do tam duong tron:\"))\n",
    "y0 = float(input(\"Tung do tam duong tron:\"))\n",
    "R = float(input(\"Ban kinh duong tron:\"))\n",
    "x = float(input(\"Hoanh do diem A:\"))\n",
    "y = float(input(\"Tung do diem A:\"))\n",
    "khoang_cach = (x-x0)**2+(y-y0)**2\n",
    "if khoang_cach==R**2:\n",
    "    print(\"A nam tren duong tron\")\n",
    "elif khoang_cach<R**2:\n",
    "    print(\"A nam trong duong tron\")\n",
    "else:\n",
    "    print(\"A khong thuoc duong tron\")\n"
   ]
  },
  {
   "cell_type": "code",
   "execution_count": 59,
   "id": "6c7e0285-8b41-4c86-9b4d-c372763da26c",
   "metadata": {},
   "outputs": [
    {
     "name": "stdin",
     "output_type": "stream",
     "text": [
      " 2 3\n"
     ]
    },
    {
     "name": "stdout",
     "output_type": "stream",
     "text": [
      "8.0\n"
     ]
    }
   ],
   "source": [
    "#Bai 11\n",
    "x, y = map(float, input().split())\n",
    "print(x**y)"
   ]
  }
 ],
 "metadata": {
  "kernelspec": {
   "display_name": "Python 3 (ipykernel)",
   "language": "python",
   "name": "python3"
  },
  "language_info": {
   "codemirror_mode": {
    "name": "ipython",
    "version": 3
   },
   "file_extension": ".py",
   "mimetype": "text/x-python",
   "name": "python",
   "nbconvert_exporter": "python",
   "pygments_lexer": "ipython3",
   "version": "3.13.5"
  },
  "widgets": {
   "application/vnd.jupyter.widget-state+json": {
    "state": {},
    "version_major": 2,
    "version_minor": 0
   }
  }
 },
 "nbformat": 4,
 "nbformat_minor": 5
}
